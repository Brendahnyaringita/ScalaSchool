{
 "cells": [
  {
   "cell_type": "code",
   "execution_count": null,
   "metadata": {},
   "outputs": [],
   "source": [
    "1+2\n",
    "//This produces an auto generaed name for the output,\n",
    "//an equals sign, the value\n"
   ]
  },
  {
   "cell_type": "code",
   "execution_count": null,
   "metadata": {},
   "outputs": [],
   "source": [
    "//Scala codes"
   ]
  },
  {
   "cell_type": "code",
   "execution_count": null,
   "metadata": {},
   "outputs": [],
   "source": [
    "0.5 + 2\n",
    "0.5 + 2 * 3"
   ]
  },
  {
   "cell_type": "code",
   "execution_count": null,
   "metadata": {},
   "outputs": [],
   "source": [
    "res4_1 * 2\n",
    "//automatically stores the result"
   ]
  },
  {
   "cell_type": "markdown",
   "metadata": {},
   "source": [
    "*val and var definitions*:\n",
    "\n",
    "A val is similar to a final\n",
    "variable in Java. Once initialized, a val can never be reassigned. \n",
    "\n",
    "A var , by contrast, is similar to a non-final variable in Java. A var can be reassigned\n",
    "throughout its lifetime."
   ]
  },
  {
   "cell_type": "code",
   "execution_count": null,
   "metadata": {},
   "outputs": [],
   "source": [
    "val msg = \"Hello There!\""
   ]
  },
  {
   "cell_type": "code",
   "execution_count": null,
   "metadata": {},
   "outputs": [],
   "source": [
    "var msg = \"Hello again world!\""
   ]
  },
  {
   "cell_type": "code",
   "execution_count": null,
   "metadata": {},
   "outputs": [],
   "source": [
    "println(msg)"
   ]
  },
  {
   "cell_type": "code",
   "execution_count": null,
   "metadata": {},
   "outputs": [],
   "source": [
    "msg = \"Bye world\""
   ]
  },
  {
   "cell_type": "code",
   "execution_count": null,
   "metadata": {},
   "outputs": [],
   "source": [
    "println(msg)"
   ]
  },
  {
   "cell_type": "markdown",
   "metadata": {},
   "source": [
    "Writing functions in  Scala:\n",
    "\n",
    "Use def. The function’s name, in this case max , is\n",
    "followed by a comma-separated list of parameters in parentheses. \n",
    "\n",
    "A type an-notation must follow every function parameter, preceded by a colon, because\n",
    "the Scala compiler does not infer function parameter types."
   ]
  },
  {
   "cell_type": "code",
   "execution_count": null,
   "metadata": {},
   "outputs": [],
   "source": [
    "def max(x: Int, y: Int): Int = {\n",
    "    if (x > y) x\n",
    "    else y\n",
    "}"
   ]
  },
  {
   "cell_type": "code",
   "execution_count": null,
   "metadata": {},
   "outputs": [],
   "source": [
    "//Once you define a function, now call it by name:\n",
    "max(5,8)"
   ]
  },
  {
   "cell_type": "code",
   "execution_count": null,
   "metadata": {},
   "outputs": [],
   "source": [
    "//Define a function that takes no parameters and returns no interesting result\n",
    "def greet() = println(\"hello worlds\")"
   ]
  }
 ],
 "metadata": {
  "kernelspec": {
   "display_name": "Scala 2.11",
   "language": "scala211",
   "name": "scala211"
  },
  "language_info": {
   "codemirror_mode": "text/x-scala",
   "file_extension": ".scala",
   "mimetype": "text/x-scala",
   "name": "scala211",
   "nbconvert_exporter": "script",
   "pygments_lexer": "scala",
   "version": "2.11.11"
  }
 },
 "nbformat": 4,
 "nbformat_minor": 4
}
